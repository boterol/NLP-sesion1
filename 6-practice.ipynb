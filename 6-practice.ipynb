{
 "cells": [
  {
   "cell_type": "markdown",
   "metadata": {},
   "source": [
    "# NLP Basics Assessment"
   ]
  },
  {
   "cell_type": "markdown",
   "metadata": {},
   "source": [
    "[![Open In Colab](https://colab.research.google.com/assets/colab-badge.svg)](https://colab.research.google.com/github/Ohtar10/icesi-nlp/blob/main/Sesion1/6-practice.ipynb)\n",
    "\n",
    "En este notebook vamos a poner en práctica algunos de los conceptos vistos en los notebooks anteriores, aplicado a un corpus específico: \n",
    "[_An Occurrence at Owl Creek Bridge_](https://en.wikipedia.org/wiki/An_Occurrence_at_Owl_Creek_Bridge) por Ambrose Bierce (1890). Esta historia es de dominio público y el corpus fue obtenido de [Project Gutenberg](https://www.gutenberg.org/ebooks/375.txt.utf-8).\n",
    "\n",
    "## Referencias\n",
    "* [NLP - Natural Language Processing With Python](https://www.udemy.com/course/nlp-natural-language-processing-with-python)"
   ]
  },
  {
   "cell_type": "code",
   "execution_count": 32,
   "metadata": {},
   "outputs": [],
   "source": [
    "# RUN THIS CELL to perform standard imports:\n",
    "import spacy\n",
    "nlp = spacy.load('en_core_web_sm')"
   ]
  },
  {
   "cell_type": "markdown",
   "metadata": {},
   "source": [
    "**1. Creamos el documento desde el archivo `owlcreek.txt`**<br>\n",
    "> Pista: Usa `with open('./owlcreek.txt') as f:`"
   ]
  },
  {
   "cell_type": "code",
   "execution_count": 33,
   "metadata": {},
   "outputs": [],
   "source": [
    "!test '{IN_COLAB}' = 'True' && wget  https://github.com/Ohtar10/icesi-nlp/raw/refs/heads/main/Sesion1/owlcreek.txt"
   ]
  },
  {
   "cell_type": "code",
   "execution_count": 34,
   "metadata": {},
   "outputs": [],
   "source": [
    "with open('./minecraft.txt') as file:\n",
    "    doc = nlp(file.read())"
   ]
  },
  {
   "cell_type": "code",
   "execution_count": 35,
   "metadata": {},
   "outputs": [
    {
     "data": {
      "text/plain": [
       "Minecraft is a sandbox video game that gives players an unparalleled level of freedom to shape, explore, and survive in a world built entirely out of blocks. Originally created by Markus \"Notch"
      ]
     },
     "execution_count": 35,
     "metadata": {},
     "output_type": "execute_result"
    }
   ],
   "source": [
    "doc[:36]"
   ]
  },
  {
   "cell_type": "markdown",
   "metadata": {},
   "source": [
    "El documento fue cargado exitosamente!"
   ]
  },
  {
   "cell_type": "markdown",
   "metadata": {},
   "source": [
    "**2. Cuantos tokens hay en el archivo?**"
   ]
  },
  {
   "cell_type": "code",
   "execution_count": 36,
   "metadata": {},
   "outputs": [
    {
     "data": {
      "text/plain": [
       "758"
      ]
     },
     "execution_count": 36,
     "metadata": {},
     "output_type": "execute_result"
    }
   ],
   "source": [
    "len(doc)"
   ]
  },
  {
   "cell_type": "markdown",
   "metadata": {},
   "source": [
    "**3. Cuantas oraciones hay en el archivo?**\n",
    "<br>Pista: Necesitarás una lista primero"
   ]
  },
  {
   "cell_type": "code",
   "execution_count": 37,
   "metadata": {},
   "outputs": [
    {
     "data": {
      "text/plain": [
       "24"
      ]
     },
     "execution_count": 37,
     "metadata": {},
     "output_type": "execute_result"
    }
   ],
   "source": [
    "sentences = list(doc.sents)\n",
    "len(sentences)"
   ]
  },
  {
   "cell_type": "markdown",
   "metadata": {},
   "source": [
    "**4. Imprime la segunda oración del documento**\n",
    "<br> Pista: Los índices comienzan en 0 y el título cuenta como la primera oración."
   ]
  },
  {
   "cell_type": "code",
   "execution_count": 38,
   "metadata": {},
   "outputs": [
    {
     "data": {
      "text/plain": [
       "Originally created by Markus \"Notch\" Persson and released officially by Mojang Studios in 2011, Minecraft has evolved into one of the best-selling and most influential games in history."
      ]
     },
     "execution_count": 38,
     "metadata": {},
     "output_type": "execute_result"
    }
   ],
   "source": [
    "sentences[1]"
   ]
  },
  {
   "cell_type": "markdown",
   "metadata": {},
   "source": [
    "**5. Por cada token en la oración anterior, imprime su `text`, `POS` tag, `dep` tag y `lemma`**\n",
    "<br>"
   ]
  },
  {
   "cell_type": "code",
   "execution_count": 39,
   "metadata": {},
   "outputs": [
    {
     "name": "stdout",
     "output_type": "stream",
     "text": [
      "Text                POS                 dep                 lemma               \n",
      "Originally          ADV                 advmod              originally          \n",
      "created             VERB                advcl               create              \n",
      "by                  ADP                 agent               by                  \n",
      "Markus              PROPN               nmod                Markus              \n",
      "\"                   PUNCT               punct               \"                   \n",
      "Notch               PROPN               nmod                Notch               \n",
      "\"                   PUNCT               punct               \"                   \n",
      "Persson             PROPN               pobj                Persson             \n",
      "and                 CCONJ               cc                  and                 \n",
      "released            VERB                conj                release             \n",
      "officially          ADV                 advmod              officially          \n",
      "by                  ADP                 agent               by                  \n",
      "Mojang              PROPN               compound            Mojang              \n",
      "Studios             PROPN               pobj                Studios             \n",
      "in                  ADP                 prep                in                  \n",
      "2011                NUM                 pobj                2011                \n",
      ",                   PUNCT               punct               ,                   \n",
      "Minecraft           PROPN               nsubj               Minecraft           \n",
      "has                 AUX                 aux                 have                \n",
      "evolved             VERB                ROOT                evolve              \n",
      "into                ADP                 prep                into                \n",
      "one                 NUM                 pobj                one                 \n",
      "of                  ADP                 prep                of                  \n",
      "the                 DET                 det                 the                 \n",
      "best                ADV                 advmod              well                \n",
      "-                   PUNCT               punct               -                   \n",
      "selling             NOUN                amod                selling             \n",
      "and                 CCONJ               cc                  and                 \n",
      "most                ADV                 advmod              most                \n",
      "influential         ADJ                 conj                influential         \n",
      "games               NOUN                pobj                game                \n",
      "in                  ADP                 prep                in                  \n",
      "history             NOUN                pobj                history             \n",
      ".                   PUNCT               punct               .                   \n"
     ]
    }
   ],
   "source": [
    "print(\"{:20}{:20}{:20}{:20}\".format(\"Text\", \"POS\", \"dep\", \"lemma\"))\n",
    "for token in sentences[1]:\n",
    "    print(f\"{token.text:{20}}{token.pos_:{20}}{token.dep_:{20}}{token.lemma_:{20}}\")"
   ]
  },
  {
   "cell_type": "markdown",
   "metadata": {},
   "source": [
    "**6. Implementa un matcher llamado *Swimming* que encuentre las ocurrencias de la frase *swimming vigorously* Write a matcher called 'Swimming' that finds**\n",
    "<br>\n",
    "Pista: Deberías incluir un patrón`'IS_SPACE': True` entre las dos palabras."
   ]
  },
  {
   "cell_type": "code",
   "execution_count": 44,
   "metadata": {},
   "outputs": [],
   "source": [
    "from spacy.matcher import Matcher\n",
    "\n",
    "matcher = Matcher(nlp.vocab)\n",
    "pattern = [{'LOWER': 'video'}, {'LOWER': 'game'}]\n",
    "matcher.add(\"game\", [pattern])\n"
   ]
  },
  {
   "cell_type": "code",
   "execution_count": 45,
   "metadata": {},
   "outputs": [
    {
     "data": {
      "text/plain": [
       "[(6371478730979445275, 4, 6), (6371478730979445275, 661, 663)]"
      ]
     },
     "execution_count": 45,
     "metadata": {},
     "output_type": "execute_result"
    }
   ],
   "source": [
    "found_matches = matcher(doc)\n",
    "found_matches\n",
    "\n",
    "\n"
   ]
  },
  {
   "cell_type": "markdown",
   "metadata": {},
   "source": [
    "**7. Imprime el texto al rededor de cada match encontrado**"
   ]
  },
  {
   "cell_type": "code",
   "execution_count": 52,
   "metadata": {},
   "outputs": [
    {
     "data": {
      "text/plain": [
       "a sandbox video game that gives players an unparalleled level of freedom to shape, explore,"
      ]
     },
     "execution_count": 52,
     "metadata": {},
     "output_type": "execute_result"
    }
   ],
   "source": [
    "start, end = found_matches[0][1:]\n",
    "doc[start-2:end+13]"
   ]
  },
  {
   "cell_type": "code",
   "execution_count": 53,
   "metadata": {},
   "outputs": [
    {
     "data": {
      "text/plain": [
       "recognizable worldwide. More than just a video game, Minecraft has become a"
      ]
     },
     "execution_count": 53,
     "metadata": {},
     "output_type": "execute_result"
    }
   ],
   "source": [
    "start, end = found_matches[1][1:]\n",
    "doc[start-7:end+5]"
   ]
  },
  {
   "cell_type": "markdown",
   "metadata": {},
   "source": [
    "**8. Imprime la oración que contiene cada match encontrado**"
   ]
  },
  {
   "cell_type": "code",
   "execution_count": 54,
   "metadata": {},
   "outputs": [
    {
     "name": "stdout",
     "output_type": "stream",
     "text": [
      "Minecraft is a sandbox video game that gives players an unparalleled level of freedom to shape, explore, and survive in a world built entirely out of blocks. \n",
      "\n",
      "More than just a video game, Minecraft has become a platform for expression, creativity, and community building. \n",
      "\n"
     ]
    }
   ],
   "source": [
    "for sentence in sentences:\n",
    "    for _, start, end in found_matches:\n",
    "        if sentence.start <= start and sentence.end >= end:\n",
    "            print(sentence.text, '\\n')"
   ]
  }
 ],
 "metadata": {
  "kernelspec": {
   "display_name": "nlp_env",
   "language": "python",
   "name": "python3"
  },
  "language_info": {
   "codemirror_mode": {
    "name": "ipython",
    "version": 3
   },
   "file_extension": ".py",
   "mimetype": "text/x-python",
   "name": "python",
   "nbconvert_exporter": "python",
   "pygments_lexer": "ipython3",
   "version": "3.11.13"
  }
 },
 "nbformat": 4,
 "nbformat_minor": 2
}
