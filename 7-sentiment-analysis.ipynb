{
 "cells": [
  {
   "cell_type": "markdown",
   "metadata": {},
   "source": [
    "# Analisis de Sentimientos en reseñas de películas\n",
    "\n",
    "[![Open In Colab](https://colab.research.google.com/assets/colab-badge.svg)](https://colab.research.google.com/github/Ohtar10/icesi-nlp/blob/main/Sesion1/7-sentiment-analysis.ipynb)\n",
    "\n",
    "Ahora pongamos en práctica algunos de estos conceptos en un caso más real. Para esta práctica vamos a hacer un análisis de sentimientos sobre unas reseñas de películas. Este caso sería una simple clasificación binaria y podemos utilizar cualquier modelo para ese fin, lo adicional aquí es el pre-procesamiento de las entradas de texto."
   ]
  },
  {
   "cell_type": "markdown",
   "metadata": {},
   "source": [
    "Empecemos por cargar el dataset:"
   ]
  },
  {
   "cell_type": "code",
   "execution_count": 14,
   "metadata": {},
   "outputs": [
    {
     "data": {
      "text/html": [
       "<div>\n",
       "<style scoped>\n",
       "    .dataframe tbody tr th:only-of-type {\n",
       "        vertical-align: middle;\n",
       "    }\n",
       "\n",
       "    .dataframe tbody tr th {\n",
       "        vertical-align: top;\n",
       "    }\n",
       "\n",
       "    .dataframe thead th {\n",
       "        text-align: right;\n",
       "    }\n",
       "</style>\n",
       "<table border=\"1\" class=\"dataframe\">\n",
       "  <thead>\n",
       "    <tr style=\"text-align: right;\">\n",
       "      <th></th>\n",
       "      <th>source</th>\n",
       "      <th>sentiment</th>\n",
       "      <th>speaker</th>\n",
       "      <th>review</th>\n",
       "      <th>url</th>\n",
       "    </tr>\n",
       "  </thead>\n",
       "  <tbody>\n",
       "    <tr>\n",
       "      <th>0</th>\n",
       "      <td>PC Gamer / official preview</td>\n",
       "      <td>pos</td>\n",
       "      <td>Morgan Park</td>\n",
       "      <td>After 4 hours with Battlefield 6, I think Batt...</td>\n",
       "      <td>https://www.pcgamer.com/games/fps/after-4-hour...</td>\n",
       "    </tr>\n",
       "    <tr>\n",
       "      <th>1</th>\n",
       "      <td>DLCompare (news)</td>\n",
       "      <td>pos</td>\n",
       "      <td>Community writer</td>\n",
       "      <td>The community has embraced Battlefield 6’s ret...</td>\n",
       "      <td>https://www.dlcompare.com/gaming-news/battlefi...</td>\n",
       "    </tr>\n",
       "    <tr>\n",
       "      <th>2</th>\n",
       "      <td>PC Gamer (news)</td>\n",
       "      <td>neg</td>\n",
       "      <td>Tester / community</td>\n",
       "      <td>Raised concerns about a 'zero recoil' LMG, tho...</td>\n",
       "      <td>https://www.pcgamer.com/games/fps/people-are-f...</td>\n",
       "    </tr>\n",
       "    <tr>\n",
       "      <th>3</th>\n",
       "      <td>GamesRadar (news)</td>\n",
       "      <td>neg</td>\n",
       "      <td>Analyst / writer</td>\n",
       "      <td>Raises questions if the new fast-paced movemen...</td>\n",
       "      <td>https://www.gamesradar.com/games/battlefield/b...</td>\n",
       "    </tr>\n",
       "    <tr>\n",
       "      <th>4</th>\n",
       "      <td>FandomWire (review)</td>\n",
       "      <td>neg</td>\n",
       "      <td>Murky‑String1114</td>\n",
       "      <td>The gunplay is quite underwhelming... it feels...</td>\n",
       "      <td>https://fandomwire.com/battlefield-6-beta-feed...</td>\n",
       "    </tr>\n",
       "  </tbody>\n",
       "</table>\n",
       "</div>"
      ],
      "text/plain": [
       "                        source sentiment             speaker  \\\n",
       "0  PC Gamer / official preview       pos         Morgan Park   \n",
       "1             DLCompare (news)       pos    Community writer   \n",
       "2              PC Gamer (news)       neg  Tester / community   \n",
       "3            GamesRadar (news)       neg    Analyst / writer   \n",
       "4          FandomWire (review)       neg    Murky‑String1114   \n",
       "\n",
       "                                              review  \\\n",
       "0  After 4 hours with Battlefield 6, I think Batt...   \n",
       "1  The community has embraced Battlefield 6’s ret...   \n",
       "2  Raised concerns about a 'zero recoil' LMG, tho...   \n",
       "3  Raises questions if the new fast-paced movemen...   \n",
       "4  The gunplay is quite underwhelming... it feels...   \n",
       "\n",
       "                                                 url  \n",
       "0  https://www.pcgamer.com/games/fps/after-4-hour...  \n",
       "1  https://www.dlcompare.com/gaming-news/battlefi...  \n",
       "2  https://www.pcgamer.com/games/fps/people-are-f...  \n",
       "3  https://www.gamesradar.com/games/battlefield/b...  \n",
       "4  https://fandomwire.com/battlefield-6-beta-feed...  "
      ]
     },
     "execution_count": 14,
     "metadata": {},
     "output_type": "execute_result"
    }
   ],
   "source": [
    "import pandas as pd\n",
    "import numpy as np\n",
    "\n",
    "reviews = pd.read_csv('./bf6_opinions_clean.tsv', sep='\\t')\n",
    "reviews.head()"
   ]
  },
  {
   "cell_type": "markdown",
   "metadata": {},
   "source": [
    "Luego, hagamos algo de limpieza, vamos a remover nulos y valores vacíos:"
   ]
  },
  {
   "cell_type": "code",
   "execution_count": 15,
   "metadata": {},
   "outputs": [],
   "source": [
    "reviews.drop(columns=['source', 'speaker', 'url'], inplace=True)\n",
    "reviews.dropna(inplace=True)\n",
    "reviews.review = reviews.review.apply(lambda r: r.strip())\n",
    "blanks = reviews[reviews.review == ''].index\n",
    "reviews.drop(blanks, inplace=True)"
   ]
  },
  {
   "cell_type": "code",
   "execution_count": 16,
   "metadata": {},
   "outputs": [
    {
     "data": {
      "text/plain": [
       "Index([], dtype='int64')"
      ]
     },
     "execution_count": 16,
     "metadata": {},
     "output_type": "execute_result"
    }
   ],
   "source": [
    "reviews[reviews.review == ''].index"
   ]
  },
  {
   "cell_type": "code",
   "execution_count": 17,
   "metadata": {},
   "outputs": [
    {
     "data": {
      "text/plain": [
       "sentiment\n",
       "pos    5\n",
       "neg    5\n",
       "Name: count, dtype: int64"
      ]
     },
     "execution_count": 17,
     "metadata": {},
     "output_type": "execute_result"
    }
   ],
   "source": [
    "reviews.sentiment.value_counts()"
   ]
  },
  {
   "cell_type": "markdown",
   "metadata": {},
   "source": [
    "Tenemos un dataset balanceado de casi mil ejemplares por cada clase.\n",
    "\n",
    "Para hacer las cosas simples, vamos a utilizar un VADER para computar el puntaje de positivo o negativo. Este modelo ya viene implementado dentro de NLTK."
   ]
  },
  {
   "cell_type": "code",
   "execution_count": 18,
   "metadata": {},
   "outputs": [
    {
     "name": "stderr",
     "output_type": "stream",
     "text": [
      "[nltk_data] Downloading package vader_lexicon to\n",
      "[nltk_data]     /home/luis/nltk_data...\n",
      "[nltk_data]   Package vader_lexicon is already up-to-date!\n"
     ]
    },
    {
     "data": {
      "text/plain": [
       "True"
      ]
     },
     "execution_count": 18,
     "metadata": {},
     "output_type": "execute_result"
    }
   ],
   "source": [
    "import nltk\n",
    "nltk.download('vader_lexicon')"
   ]
  },
  {
   "cell_type": "code",
   "execution_count": 19,
   "metadata": {},
   "outputs": [
    {
     "data": {
      "text/html": [
       "<div>\n",
       "<style scoped>\n",
       "    .dataframe tbody tr th:only-of-type {\n",
       "        vertical-align: middle;\n",
       "    }\n",
       "\n",
       "    .dataframe tbody tr th {\n",
       "        vertical-align: top;\n",
       "    }\n",
       "\n",
       "    .dataframe thead th {\n",
       "        text-align: right;\n",
       "    }\n",
       "</style>\n",
       "<table border=\"1\" class=\"dataframe\">\n",
       "  <thead>\n",
       "    <tr style=\"text-align: right;\">\n",
       "      <th></th>\n",
       "      <th>sentiment</th>\n",
       "      <th>review</th>\n",
       "      <th>scores</th>\n",
       "    </tr>\n",
       "  </thead>\n",
       "  <tbody>\n",
       "    <tr>\n",
       "      <th>0</th>\n",
       "      <td>pos</td>\n",
       "      <td>After 4 hours with Battlefield 6, I think Batt...</td>\n",
       "      <td>{'neg': 0.342, 'neu': 0.658, 'pos': 0.0, 'comp...</td>\n",
       "    </tr>\n",
       "    <tr>\n",
       "      <th>1</th>\n",
       "      <td>pos</td>\n",
       "      <td>The community has embraced Battlefield 6’s ret...</td>\n",
       "      <td>{'neg': 0.109, 'neu': 0.588, 'pos': 0.303, 'co...</td>\n",
       "    </tr>\n",
       "    <tr>\n",
       "      <th>2</th>\n",
       "      <td>neg</td>\n",
       "      <td>Raised concerns about a 'zero recoil' LMG, tho...</td>\n",
       "      <td>{'neg': 0.0, 'neu': 1.0, 'pos': 0.0, 'compound...</td>\n",
       "    </tr>\n",
       "    <tr>\n",
       "      <th>3</th>\n",
       "      <td>neg</td>\n",
       "      <td>Raises questions if the new fast-paced movemen...</td>\n",
       "      <td>{'neg': 0.0, 'neu': 1.0, 'pos': 0.0, 'compound...</td>\n",
       "    </tr>\n",
       "    <tr>\n",
       "      <th>4</th>\n",
       "      <td>neg</td>\n",
       "      <td>The gunplay is quite underwhelming... it feels...</td>\n",
       "      <td>{'neg': 0.0, 'neu': 1.0, 'pos': 0.0, 'compound...</td>\n",
       "    </tr>\n",
       "  </tbody>\n",
       "</table>\n",
       "</div>"
      ],
      "text/plain": [
       "  sentiment                                             review  \\\n",
       "0       pos  After 4 hours with Battlefield 6, I think Batt...   \n",
       "1       pos  The community has embraced Battlefield 6’s ret...   \n",
       "2       neg  Raised concerns about a 'zero recoil' LMG, tho...   \n",
       "3       neg  Raises questions if the new fast-paced movemen...   \n",
       "4       neg  The gunplay is quite underwhelming... it feels...   \n",
       "\n",
       "                                              scores  \n",
       "0  {'neg': 0.342, 'neu': 0.658, 'pos': 0.0, 'comp...  \n",
       "1  {'neg': 0.109, 'neu': 0.588, 'pos': 0.303, 'co...  \n",
       "2  {'neg': 0.0, 'neu': 1.0, 'pos': 0.0, 'compound...  \n",
       "3  {'neg': 0.0, 'neu': 1.0, 'pos': 0.0, 'compound...  \n",
       "4  {'neg': 0.0, 'neu': 1.0, 'pos': 0.0, 'compound...  "
      ]
     },
     "execution_count": 19,
     "metadata": {},
     "output_type": "execute_result"
    }
   ],
   "source": [
    "from nltk.sentiment.vader import SentimentIntensityAnalyzer\n",
    "\n",
    "sid = SentimentIntensityAnalyzer()\n",
    "reviews['scores'] = reviews.review.apply(lambda r: sid.polarity_scores(r))\n",
    "reviews.head()"
   ]
  },
  {
   "cell_type": "markdown",
   "metadata": {},
   "source": [
    "Con estos puntajes ahora podemos convertir el resultado en una etiqueta de predicción:"
   ]
  },
  {
   "cell_type": "code",
   "execution_count": 20,
   "metadata": {},
   "outputs": [
    {
     "data": {
      "text/html": [
       "<div>\n",
       "<style scoped>\n",
       "    .dataframe tbody tr th:only-of-type {\n",
       "        vertical-align: middle;\n",
       "    }\n",
       "\n",
       "    .dataframe tbody tr th {\n",
       "        vertical-align: top;\n",
       "    }\n",
       "\n",
       "    .dataframe thead th {\n",
       "        text-align: right;\n",
       "    }\n",
       "</style>\n",
       "<table border=\"1\" class=\"dataframe\">\n",
       "  <thead>\n",
       "    <tr style=\"text-align: right;\">\n",
       "      <th></th>\n",
       "      <th>sentiment</th>\n",
       "      <th>review</th>\n",
       "      <th>scores</th>\n",
       "      <th>compound</th>\n",
       "      <th>prediction</th>\n",
       "    </tr>\n",
       "  </thead>\n",
       "  <tbody>\n",
       "    <tr>\n",
       "      <th>0</th>\n",
       "      <td>pos</td>\n",
       "      <td>After 4 hours with Battlefield 6, I think Batt...</td>\n",
       "      <td>{'neg': 0.342, 'neu': 0.658, 'pos': 0.0, 'comp...</td>\n",
       "      <td>-0.6369</td>\n",
       "      <td>neg</td>\n",
       "    </tr>\n",
       "    <tr>\n",
       "      <th>1</th>\n",
       "      <td>pos</td>\n",
       "      <td>The community has embraced Battlefield 6’s ret...</td>\n",
       "      <td>{'neg': 0.109, 'neu': 0.588, 'pos': 0.303, 'co...</td>\n",
       "      <td>0.6808</td>\n",
       "      <td>pos</td>\n",
       "    </tr>\n",
       "    <tr>\n",
       "      <th>2</th>\n",
       "      <td>neg</td>\n",
       "      <td>Raised concerns about a 'zero recoil' LMG, tho...</td>\n",
       "      <td>{'neg': 0.0, 'neu': 1.0, 'pos': 0.0, 'compound...</td>\n",
       "      <td>0.0000</td>\n",
       "      <td>neg</td>\n",
       "    </tr>\n",
       "    <tr>\n",
       "      <th>3</th>\n",
       "      <td>neg</td>\n",
       "      <td>Raises questions if the new fast-paced movemen...</td>\n",
       "      <td>{'neg': 0.0, 'neu': 1.0, 'pos': 0.0, 'compound...</td>\n",
       "      <td>0.0000</td>\n",
       "      <td>neg</td>\n",
       "    </tr>\n",
       "    <tr>\n",
       "      <th>4</th>\n",
       "      <td>neg</td>\n",
       "      <td>The gunplay is quite underwhelming... it feels...</td>\n",
       "      <td>{'neg': 0.0, 'neu': 1.0, 'pos': 0.0, 'compound...</td>\n",
       "      <td>0.0000</td>\n",
       "      <td>neg</td>\n",
       "    </tr>\n",
       "    <tr>\n",
       "      <th>5</th>\n",
       "      <td>neg</td>\n",
       "      <td>I don't like how it seems so fast... FPS games...</td>\n",
       "      <td>{'neg': 0.14, 'neu': 0.86, 'pos': 0.0, 'compou...</td>\n",
       "      <td>-0.2755</td>\n",
       "      <td>neg</td>\n",
       "    </tr>\n",
       "    <tr>\n",
       "      <th>6</th>\n",
       "      <td>pos</td>\n",
       "      <td>I’ve been playing… pre‑alpha… I’ve got to say ...</td>\n",
       "      <td>{'neg': 0.198, 'neu': 0.802, 'pos': 0.0, 'comp...</td>\n",
       "      <td>-0.5719</td>\n",
       "      <td>neg</td>\n",
       "    </tr>\n",
       "    <tr>\n",
       "      <th>7</th>\n",
       "      <td>pos</td>\n",
       "      <td>Managed to try it… It’s Battlefield alright… T...</td>\n",
       "      <td>{'neg': 0.27, 'neu': 0.73, 'pos': 0.0, 'compou...</td>\n",
       "      <td>-0.7430</td>\n",
       "      <td>neg</td>\n",
       "    </tr>\n",
       "    <tr>\n",
       "      <th>8</th>\n",
       "      <td>pos</td>\n",
       "      <td>The build quality… is great. I have a lot of g...</td>\n",
       "      <td>{'neg': 0.0, 'neu': 0.745, 'pos': 0.255, 'comp...</td>\n",
       "      <td>0.6249</td>\n",
       "      <td>pos</td>\n",
       "    </tr>\n",
       "    <tr>\n",
       "      <th>9</th>\n",
       "      <td>neg</td>\n",
       "      <td>Skeptical about omission of server browser and...</td>\n",
       "      <td>{'neg': 0.13, 'neu': 0.565, 'pos': 0.305, 'com...</td>\n",
       "      <td>0.4767</td>\n",
       "      <td>pos</td>\n",
       "    </tr>\n",
       "  </tbody>\n",
       "</table>\n",
       "</div>"
      ],
      "text/plain": [
       "  sentiment                                             review  \\\n",
       "0       pos  After 4 hours with Battlefield 6, I think Batt...   \n",
       "1       pos  The community has embraced Battlefield 6’s ret...   \n",
       "2       neg  Raised concerns about a 'zero recoil' LMG, tho...   \n",
       "3       neg  Raises questions if the new fast-paced movemen...   \n",
       "4       neg  The gunplay is quite underwhelming... it feels...   \n",
       "5       neg  I don't like how it seems so fast... FPS games...   \n",
       "6       pos  I’ve been playing… pre‑alpha… I’ve got to say ...   \n",
       "7       pos  Managed to try it… It’s Battlefield alright… T...   \n",
       "8       pos  The build quality… is great. I have a lot of g...   \n",
       "9       neg  Skeptical about omission of server browser and...   \n",
       "\n",
       "                                              scores  compound prediction  \n",
       "0  {'neg': 0.342, 'neu': 0.658, 'pos': 0.0, 'comp...   -0.6369        neg  \n",
       "1  {'neg': 0.109, 'neu': 0.588, 'pos': 0.303, 'co...    0.6808        pos  \n",
       "2  {'neg': 0.0, 'neu': 1.0, 'pos': 0.0, 'compound...    0.0000        neg  \n",
       "3  {'neg': 0.0, 'neu': 1.0, 'pos': 0.0, 'compound...    0.0000        neg  \n",
       "4  {'neg': 0.0, 'neu': 1.0, 'pos': 0.0, 'compound...    0.0000        neg  \n",
       "5  {'neg': 0.14, 'neu': 0.86, 'pos': 0.0, 'compou...   -0.2755        neg  \n",
       "6  {'neg': 0.198, 'neu': 0.802, 'pos': 0.0, 'comp...   -0.5719        neg  \n",
       "7  {'neg': 0.27, 'neu': 0.73, 'pos': 0.0, 'compou...   -0.7430        neg  \n",
       "8  {'neg': 0.0, 'neu': 0.745, 'pos': 0.255, 'comp...    0.6249        pos  \n",
       "9  {'neg': 0.13, 'neu': 0.565, 'pos': 0.305, 'com...    0.4767        pos  "
      ]
     },
     "execution_count": 20,
     "metadata": {},
     "output_type": "execute_result"
    }
   ],
   "source": [
    "reviews['compound'] = reviews.scores.apply(lambda s: s['compound'])    \n",
    "reviews['prediction'] = reviews['compound'].apply(lambda c: 'pos' if c > 0 else 'neg')\n",
    "reviews"
   ]
  },
  {
   "cell_type": "markdown",
   "metadata": {},
   "source": [
    "Y finalmente computar unas cuantas métricas de calidad del modelo:"
   ]
  },
  {
   "cell_type": "code",
   "execution_count": 21,
   "metadata": {},
   "outputs": [
    {
     "name": "stdout",
     "output_type": "stream",
     "text": [
      "Accuracy:\n",
      "0.6\n",
      "\n",
      "Classification Report:\n",
      "              precision    recall  f1-score   support\n",
      "\n",
      "         neg       0.57      0.80      0.67         5\n",
      "         pos       0.67      0.40      0.50         5\n",
      "\n",
      "    accuracy                           0.60        10\n",
      "   macro avg       0.62      0.60      0.58        10\n",
      "weighted avg       0.62      0.60      0.58        10\n",
      "\n",
      "Confusion Matrix:\n",
      "[[4 1]\n",
      " [3 2]]\n"
     ]
    }
   ],
   "source": [
    "from sklearn.metrics import accuracy_score, confusion_matrix, classification_report\n",
    "\n",
    "y_true = reviews.sentiment.values\n",
    "y_pred = reviews.prediction.values\n",
    "\n",
    "acc = accuracy_score(y_true, y_pred)\n",
    "cm = confusion_matrix(y_true, y_pred)\n",
    "cr = classification_report(y_true, y_pred)\n",
    "\n",
    "\n",
    "print(f\"Accuracy:\\n{acc}\\n\")\n",
    "print(f\"Classification Report:\\n{cr}\")\n",
    "print(f\"Confusion Matrix:\\n{cm}\")"
   ]
  },
  {
   "cell_type": "markdown",
   "metadata": {},
   "source": [
    "La correctitud no es la mejor, aún podemos hacerlo mucho mejor que la línea base (50%). Parece que tenemos problemas con las etiquetas negativas!"
   ]
  },
  {
   "cell_type": "code",
   "execution_count": null,
   "metadata": {},
   "outputs": [],
   "source": []
  }
 ],
 "metadata": {
  "kernelspec": {
   "display_name": "nlp_env",
   "language": "python",
   "name": "python3"
  },
  "language_info": {
   "codemirror_mode": {
    "name": "ipython",
    "version": 3
   },
   "file_extension": ".py",
   "mimetype": "text/x-python",
   "name": "python",
   "nbconvert_exporter": "python",
   "pygments_lexer": "ipython3",
   "version": "3.11.13"
  }
 },
 "nbformat": 4,
 "nbformat_minor": 4
}
